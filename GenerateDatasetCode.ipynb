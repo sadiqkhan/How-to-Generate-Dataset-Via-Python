{
 "cells": [
  {
   "cell_type": "code",
   "execution_count": 6,
   "id": "5a9cf228-0ac5-4387-9234-5ee3e5e534d5",
   "metadata": {},
   "outputs": [
    {
     "name": "stdout",
     "output_type": "stream",
     "text": [
      "Dataset generated and saved as 'D:/MLPR'.\n"
     ]
    }
   ],
   "source": [
    "import pandas as pd\n",
    "import numpy as np\n",
    "import os\n",
    "\n",
    "# Number of records to generate\n",
    "num_records = 500\n",
    "\n",
    "# Seed for reproducibility\n",
    "np.random.seed(42)\n",
    "\n",
    "# Generate random ages between 18 and 22\n",
    "ages = np.random.randint(18, 23, size=num_records)\n",
    "\n",
    "# Generate random genders\n",
    "genders = np.random.choice(['Male', 'Female', 'Other'], size=num_records)\n",
    "\n",
    "# Generate random programs\n",
    "programs = np.random.choice(['BS Computer Science', 'BBA', 'MBA'], size=num_records)\n",
    "semesters = np.random.choice(['1st', '2nd', '3rd', 'Final'], size=num_records)\n",
    "\n",
    "# Generate random performance scores out of 10\n",
    "def generate_performance_scores(num_records):\n",
    "    return np.random.randint(1, 11, size=(num_records, 5))\n",
    "\n",
    "performance_scores = generate_performance_scores(num_records)\n",
    "\n",
    "# Create a DataFrame\n",
    "df = pd.DataFrame({\n",
    "    'Age': ages,\n",
    "    'Gender': genders,\n",
    "    'Program': programs,\n",
    "    'Semester': semesters,\n",
    "    'Performance in Frustration Severity 1': performance_scores[:, 0],\n",
    "    'Performance in Frustration Severity 2': performance_scores[:, 1],\n",
    "    'Performance in Frustration Severity 3': performance_scores[:, 2],\n",
    "    'Performance in Frustration Severity 4': performance_scores[:, 3],\n",
    "    'Performance in Normal Conditions': performance_scores[:, 4]\n",
    "})\n",
    "\n",
    "# Specify the path to your folder\n",
    "folder_path = 'D:/MLPR'\n",
    "file_name = 'synthetic_dataset.csv'\n",
    "file_path = os.path.join(folder_path, file_name)\n",
    "\n",
    "# Create directory if it doesn't exist\n",
    "os.makedirs(folder_path, exist_ok=True)\n",
    "\n",
    "# Save the DataFrame to a CSV file\n",
    "df.to_csv(file_path, index=False)\n",
    "\n",
    "print(f\"Dataset generated and saved as '{folder_path}'.\")\n",
    "\n"
   ]
  },
  {
   "cell_type": "code",
   "execution_count": null,
   "id": "f7d3c29f-1798-4069-b07b-a1df1ada8b11",
   "metadata": {},
   "outputs": [],
   "source": []
  }
 ],
 "metadata": {
  "kernelspec": {
   "display_name": "Python 3 (ipykernel)",
   "language": "python",
   "name": "python3"
  },
  "language_info": {
   "codemirror_mode": {
    "name": "ipython",
    "version": 3
   },
   "file_extension": ".py",
   "mimetype": "text/x-python",
   "name": "python",
   "nbconvert_exporter": "python",
   "pygments_lexer": "ipython3",
   "version": "3.8.19"
  }
 },
 "nbformat": 4,
 "nbformat_minor": 5
}
